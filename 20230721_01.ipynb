{
 "cells": [
  {
   "cell_type": "code",
   "execution_count": 1,
   "metadata": {},
   "outputs": [
    {
     "name": "stdout",
     "output_type": "stream",
     "text": [
      "2.12.0\n"
     ]
    }
   ],
   "source": [
    "from tensorflow import keras\n",
    "import tensorflow as tf\n",
    "import numpy as np\n",
    "import sys\n",
    "import matplotlib.pyplot as plt\n",
    "\n",
    "print(tf.__version__)"
   ]
  },
  {
   "cell_type": "code",
   "execution_count": 2,
   "metadata": {},
   "outputs": [],
   "source": [
    "# Sequential API\n",
    "# Functional API\n",
    "# Subclassing API"
   ]
  },
  {
   "cell_type": "code",
   "execution_count": 3,
   "metadata": {},
   "outputs": [
    {
     "name": "stdout",
     "output_type": "stream",
     "text": [
      "Model: \"model_sequential\"\n",
      "_________________________________________________________________\n",
      " Layer (type)                Output Shape              Param #   \n",
      "=================================================================\n",
      " Hidden1 (Dense)             (None, 64)                704       \n",
      "                                                                 \n",
      " Dropout (Dropout)           (None, 64)                0         \n",
      "                                                                 \n",
      " Hidden2 (Dense)             (None, 32)                2080      \n",
      "                                                                 \n",
      " output (Dense)              (None, 10)                330       \n",
      "                                                                 \n",
      "=================================================================\n",
      "Total params: 3,114\n",
      "Trainable params: 3,114\n",
      "Non-trainable params: 0\n",
      "_________________________________________________________________\n"
     ]
    }
   ],
   "source": [
    "# Sequential API\n",
    "model_seq = keras.Sequential(name = 'model_sequential')\n",
    "\n",
    "model_seq.add(keras.Input(shape = (10,), name= 'InputLayer'))\n",
    "model_seq.add(keras.layers.Dense(64, 'relu', name = 'Hidden1'))\n",
    "model_seq.add(keras.layers.Dropout(0.2, name = 'Dropout'))\n",
    "model_seq.add(keras.layers.Dense(32,'relu', name = 'Hidden2'))\n",
    "model_seq.add(keras.layers.Dense(10, 'softmax', name = 'output'))\n",
    "\n",
    "model_seq.summary()"
   ]
  },
  {
   "cell_type": "code",
   "execution_count": 5,
   "metadata": {},
   "outputs": [
    {
     "name": "stdout",
     "output_type": "stream",
     "text": [
      "Model: \"sequential_1\"\n",
      "_________________________________________________________________\n",
      " Layer (type)                Output Shape              Param #   \n",
      "=================================================================\n",
      " Hidden1 (Dense)             (None, 64)                704       \n",
      "                                                                 \n",
      " Dropout (Dropout)           (None, 64)                0         \n",
      "                                                                 \n",
      " Hidden2 (Dense)             (None, 32)                2080      \n",
      "                                                                 \n",
      " output (Dense)              (None, 10)                330       \n",
      "                                                                 \n",
      "=================================================================\n",
      "Total params: 3,114\n",
      "Trainable params: 3,114\n",
      "Non-trainable params: 0\n",
      "_________________________________________________________________\n"
     ]
    }
   ],
   "source": [
    "model_seq2 = keras.Sequential([\n",
    "    keras.Input(shape = (10,), name= 'InputLayer'),\n",
    "    keras.layers.Dense(64, 'relu', name = 'Hidden1'),\n",
    "    keras.layers.Dropout(0.2, name = 'Dropout'),\n",
    "    keras.layers.Dense(32,'relu', name = 'Hidden2'),\n",
    "    keras.layers.Dense(10, 'softmax', name = 'output')\n",
    "])\n",
    "\n",
    "model_seq2.summary()"
   ]
  },
  {
   "cell_type": "code",
   "execution_count": 7,
   "metadata": {},
   "outputs": [
    {
     "name": "stdout",
     "output_type": "stream",
     "text": [
      "Model: \"model_func\"\n",
      "_________________________________________________________________\n",
      " Layer (type)                Output Shape              Param #   \n",
      "=================================================================\n",
      " InputLayer (InputLayer)     [(None, 10)]              0         \n",
      "                                                                 \n",
      " hidden1 (Dense)             (None, 64)                704       \n",
      "                                                                 \n",
      " Dropout (Dropout)           (None, 64)                0         \n",
      "                                                                 \n",
      " hidden2 (Dense)             (None, 32)                2080      \n",
      "                                                                 \n",
      " output (Dense)              (None, 10)                330       \n",
      "                                                                 \n",
      "=================================================================\n",
      "Total params: 3,114\n",
      "Trainable params: 3,114\n",
      "Non-trainable params: 0\n",
      "_________________________________________________________________\n"
     ]
    }
   ],
   "source": [
    "## Functional API\n",
    "inputs = keras.Input(shape = (10, ), name = 'InputLayer')\n",
    "hidden1 = keras.layers.Dense(64, 'relu', name = 'hidden1')(inputs)\n",
    "drop_out = keras.layers.Dropout(0.2, name = 'Dropout')(hidden1)\n",
    "hidden2 = keras.layers.Dense(32, 'relu', name = 'hidden2')(drop_out)\n",
    "outputs = keras.layers.Dense(10, 'softmax', name = 'output')(hidden2)\n",
    "\n",
    "model_func = keras.Model(inputs = inputs, outputs = outputs, name = 'model_func')\n",
    "\n",
    "model_func.summary()"
   ]
  },
  {
   "cell_type": "code",
   "execution_count": 11,
   "metadata": {},
   "outputs": [],
   "source": [
    "## subclassing API\n",
    "\n",
    "class Model_sub(keras.Model):\n",
    "    def __init__(self, hidden1, drop_rate, hidden2, outputs):\n",
    "        super(Model_sub, self).__init__(name = 'Model_sub')\n",
    "        self.hidden1 = keras.layers.Dense(hidden1, 'relu')\n",
    "        self.drop_out = keras.layers.Dropout(drop_rate)\n",
    "        self.hidden2 = keras.layers.Dense(hidden2, 'relu')\n",
    "        self.outputs = keras.layers.Dense(outputs, 'softmax')\n",
    "        \n",
    "    def call(self, inputs):\n",
    "        x = self.hidden1(inputs)\n",
    "        x = self.drop_out(x)\n",
    "        x = self.hidden2(x)\n",
    "        x = self.outputs(x)\n",
    "        \n",
    "        return x\n",
    "    \n",
    "mymodel_sub = Model_sub(64,0.2,32,10)"
   ]
  },
  {
   "cell_type": "code",
   "execution_count": 12,
   "metadata": {},
   "outputs": [
    {
     "name": "stdout",
     "output_type": "stream",
     "text": [
      "Model: \"Model_sub\"\n",
      "_________________________________________________________________\n",
      " Layer (type)                Output Shape              Param #   \n",
      "=================================================================\n",
      " dense_9 (Dense)             multiple                  704       \n",
      "                                                                 \n",
      " dropout_3 (Dropout)         multiple                  0         \n",
      "                                                                 \n",
      " dense_10 (Dense)            multiple                  2080      \n",
      "                                                                 \n",
      " dense_11 (Dense)            multiple                  330       \n",
      "                                                                 \n",
      "=================================================================\n",
      "Total params: 3,114\n",
      "Trainable params: 3,114\n",
      "Non-trainable params: 0\n",
      "_________________________________________________________________\n"
     ]
    }
   ],
   "source": [
    "mymodel_sub.build(input_shape=(1,10))\n",
    "mymodel_sub.summary()"
   ]
  },
  {
   "cell_type": "code",
   "execution_count": 13,
   "metadata": {},
   "outputs": [],
   "source": [
    "class ModelSubclassing(keras.Model):\n",
    "    def __init__(self, hidden1, drop_rate, hidden2, outputs):\n",
    "        super(ModelSubclassing, self).__init__(name = 'ModelSubclassing')\n",
    "        self.hidden1 = keras.layers.Dense(hidden1, 'relu', name = 'hidden1')\n",
    "        self.drop_out = keras.layers.Dropout(drop_rate, name = 'dropout')\n",
    "        self.hidden2 = keras.layers.Dense(hidden2, 'relu', name = 'hidden2')\n",
    "        self.outputs = keras.layers.Dense(outputs, 'softmax', name = 'outputs')\n",
    "        \n",
    "    def call(self, inputs):\n",
    "        x = self.hidden1(inputs)\n",
    "        x = self.drop_out(x)\n",
    "        x = self.hidden2(x)\n",
    "        x = self.outputs(x)\n",
    "        \n",
    "        return x"
   ]
  },
  {
   "cell_type": "code",
   "execution_count": 17,
   "metadata": {},
   "outputs": [],
   "source": [
    "model_subclassing = ModelSubclassing(64,0.2,64,10)"
   ]
  },
  {
   "cell_type": "code",
   "execution_count": 18,
   "metadata": {},
   "outputs": [
    {
     "name": "stdout",
     "output_type": "stream",
     "text": [
      "Model: \"ModelSubclassing\"\n",
      "_________________________________________________________________\n",
      " Layer (type)                Output Shape              Param #   \n",
      "=================================================================\n",
      " hidden1 (Dense)             multiple                  704       \n",
      "                                                                 \n",
      " dropout (Dropout)           multiple                  0         \n",
      "                                                                 \n",
      " hidden2 (Dense)             multiple                  4160      \n",
      "                                                                 \n",
      " outputs (Dense)             multiple                  650       \n",
      "                                                                 \n",
      "=================================================================\n",
      "Total params: 5,514\n",
      "Trainable params: 5,514\n",
      "Non-trainable params: 0\n",
      "_________________________________________________________________\n"
     ]
    }
   ],
   "source": [
    "model_subclassing.build(input_shape=(1,10))\n",
    "model_subclassing.summary()"
   ]
  },
  {
   "cell_type": "code",
   "execution_count": 20,
   "metadata": {},
   "outputs": [
    {
     "data": {
      "text/plain": [
       "(768, 9)"
      ]
     },
     "execution_count": 20,
     "metadata": {},
     "output_type": "execute_result"
    }
   ],
   "source": [
    "dataset = np.loadtxt('../pima-indians-diabetes.csv', delimiter= ',')\n",
    "dataset.shape"
   ]
  },
  {
   "cell_type": "code",
   "execution_count": 21,
   "metadata": {},
   "outputs": [
    {
     "name": "stdout",
     "output_type": "stream",
     "text": [
      "(768, 8) (768,)\n"
     ]
    }
   ],
   "source": [
    "x = dataset[:,:-1]\n",
    "y = dataset[:,-1]\n",
    "\n",
    "print(x.shape, y.shape)"
   ]
  },
  {
   "cell_type": "code",
   "execution_count": 22,
   "metadata": {},
   "outputs": [],
   "source": [
    "## subclassing\n",
    "\n",
    "class DM(keras.Model):\n",
    "    def __init__(self, hidden1, drop_rate, hidden2, outputs):\n",
    "        super(DM, self).__init__()\n",
    "        self.hidden1 = keras.layers.Dense(hidden1, 'relu')\n",
    "        self.drop_out = keras.layers.Dropout(drop_rate)\n",
    "        self.hidden2 = keras.layers.Dense(hidden2, 'relu')\n",
    "        self.outputs = keras.layers.Dense(outputs, 'sigmoid')\n",
    "        \n",
    "    def call(self, inputs):\n",
    "        x = self.hidden1(inputs)\n",
    "        x = self.drop_out(x)\n",
    "        x = self.hidden2(x)\n",
    "        x = self.outputs(x)\n",
    "        \n",
    "        return x\n",
    "    \n",
    "dm_model = DM(64,0.2,32,1)"
   ]
  },
  {
   "cell_type": "code",
   "execution_count": 23,
   "metadata": {},
   "outputs": [],
   "source": [
    "early_stop = keras.callbacks.EarlyStopping(patience=10)\n",
    "check_point = keras.callbacks.ModelCheckpoint(filepath='../model_save/best_model.ckpt',\n",
    "                                              save_best_only=True,\n",
    "                                              save_weights_only=True)\n",
    "\n",
    "dm_model.compile(loss = 'binary_crossentropy',\n",
    "                 optimizer='adam',\n",
    "                 metrics=['acc'])"
   ]
  },
  {
   "cell_type": "code",
   "execution_count": 24,
   "metadata": {},
   "outputs": [
    {
     "name": "stdout",
     "output_type": "stream",
     "text": [
      "Epoch 1/100\n",
      "10/10 [==============================] - 3s 33ms/step - loss: 5.3634 - acc: 0.5456 - val_loss: 2.0307 - val_acc: 0.6558\n",
      "Epoch 2/100\n",
      "10/10 [==============================] - 0s 7ms/step - loss: 4.2977 - acc: 0.5375 - val_loss: 1.8100 - val_acc: 0.5909\n",
      "Epoch 3/100\n",
      "10/10 [==============================] - 0s 7ms/step - loss: 3.2399 - acc: 0.5993 - val_loss: 1.5387 - val_acc: 0.6494\n",
      "Epoch 4/100\n",
      "10/10 [==============================] - 0s 7ms/step - loss: 2.8218 - acc: 0.5619 - val_loss: 1.1017 - val_acc: 0.5909\n",
      "Epoch 5/100\n",
      "10/10 [==============================] - 0s 5ms/step - loss: 2.8374 - acc: 0.5700 - val_loss: 1.4274 - val_acc: 0.6623\n",
      "Epoch 6/100\n",
      "10/10 [==============================] - 0s 5ms/step - loss: 2.6741 - acc: 0.5619 - val_loss: 1.2788 - val_acc: 0.5130\n",
      "Epoch 7/100\n",
      "10/10 [==============================] - 0s 5ms/step - loss: 2.0521 - acc: 0.5570 - val_loss: 1.1862 - val_acc: 0.6494\n",
      "Epoch 8/100\n",
      "10/10 [==============================] - 0s 7ms/step - loss: 1.9578 - acc: 0.5668 - val_loss: 0.8570 - val_acc: 0.5649\n",
      "Epoch 9/100\n",
      "10/10 [==============================] - 0s 7ms/step - loss: 1.7035 - acc: 0.6042 - val_loss: 0.8565 - val_acc: 0.6688\n",
      "Epoch 10/100\n",
      "10/10 [==============================] - 0s 7ms/step - loss: 1.6027 - acc: 0.5603 - val_loss: 0.7785 - val_acc: 0.6364\n",
      "Epoch 11/100\n",
      "10/10 [==============================] - 0s 6ms/step - loss: 1.5263 - acc: 0.6270 - val_loss: 0.8050 - val_acc: 0.5260\n",
      "Epoch 12/100\n",
      "10/10 [==============================] - 0s 5ms/step - loss: 1.6206 - acc: 0.5619 - val_loss: 0.9411 - val_acc: 0.6753\n",
      "Epoch 13/100\n",
      "10/10 [==============================] - 0s 5ms/step - loss: 1.5413 - acc: 0.6417 - val_loss: 0.7905 - val_acc: 0.5390\n",
      "Epoch 14/100\n",
      "10/10 [==============================] - 0s 7ms/step - loss: 1.2920 - acc: 0.6026 - val_loss: 0.7552 - val_acc: 0.6169\n",
      "Epoch 15/100\n",
      "10/10 [==============================] - 0s 7ms/step - loss: 1.2094 - acc: 0.6238 - val_loss: 0.6656 - val_acc: 0.6234\n",
      "Epoch 16/100\n",
      "10/10 [==============================] - 0s 5ms/step - loss: 1.5154 - acc: 0.5831 - val_loss: 0.6829 - val_acc: 0.5844\n",
      "Epoch 17/100\n",
      "10/10 [==============================] - 0s 5ms/step - loss: 1.2726 - acc: 0.6254 - val_loss: 0.7448 - val_acc: 0.5974\n",
      "Epoch 18/100\n",
      "10/10 [==============================] - 0s 5ms/step - loss: 1.4299 - acc: 0.6124 - val_loss: 0.7463 - val_acc: 0.6623\n",
      "Epoch 19/100\n",
      "10/10 [==============================] - 0s 5ms/step - loss: 1.2060 - acc: 0.6254 - val_loss: 0.7127 - val_acc: 0.6753\n",
      "Epoch 20/100\n",
      "10/10 [==============================] - 0s 5ms/step - loss: 1.2161 - acc: 0.6368 - val_loss: 0.6742 - val_acc: 0.6494\n",
      "Epoch 21/100\n",
      "10/10 [==============================] - 0s 4ms/step - loss: 1.0533 - acc: 0.6156 - val_loss: 0.7482 - val_acc: 0.6494\n",
      "Epoch 22/100\n",
      "10/10 [==============================] - 0s 5ms/step - loss: 1.1273 - acc: 0.6433 - val_loss: 0.7267 - val_acc: 0.5649\n",
      "Epoch 23/100\n",
      "10/10 [==============================] - 0s 5ms/step - loss: 1.2313 - acc: 0.6124 - val_loss: 0.7512 - val_acc: 0.6558\n",
      "Epoch 24/100\n",
      "10/10 [==============================] - 0s 9ms/step - loss: 1.0669 - acc: 0.6401 - val_loss: 0.6390 - val_acc: 0.6883\n",
      "Epoch 25/100\n",
      "10/10 [==============================] - 0s 5ms/step - loss: 0.9159 - acc: 0.6531 - val_loss: 0.6864 - val_acc: 0.6169\n",
      "Epoch 26/100\n",
      "10/10 [==============================] - 0s 5ms/step - loss: 0.9539 - acc: 0.6450 - val_loss: 0.6857 - val_acc: 0.6558\n",
      "Epoch 27/100\n",
      "10/10 [==============================] - 0s 4ms/step - loss: 1.0614 - acc: 0.6287 - val_loss: 0.7128 - val_acc: 0.5909\n",
      "Epoch 28/100\n",
      "10/10 [==============================] - 0s 5ms/step - loss: 1.0736 - acc: 0.6059 - val_loss: 0.8056 - val_acc: 0.6623\n",
      "Epoch 29/100\n",
      "10/10 [==============================] - 0s 5ms/step - loss: 1.0029 - acc: 0.6384 - val_loss: 0.8464 - val_acc: 0.5779\n",
      "Epoch 30/100\n",
      "10/10 [==============================] - 0s 5ms/step - loss: 0.9690 - acc: 0.6531 - val_loss: 0.6735 - val_acc: 0.6364\n",
      "Epoch 31/100\n",
      "10/10 [==============================] - 0s 8ms/step - loss: 0.7935 - acc: 0.6710 - val_loss: 0.6306 - val_acc: 0.6494\n",
      "Epoch 32/100\n",
      "10/10 [==============================] - 0s 5ms/step - loss: 0.9925 - acc: 0.6287 - val_loss: 0.6482 - val_acc: 0.6494\n",
      "Epoch 33/100\n",
      "10/10 [==============================] - 0s 5ms/step - loss: 0.8793 - acc: 0.6710 - val_loss: 0.6722 - val_acc: 0.6494\n",
      "Epoch 34/100\n",
      "10/10 [==============================] - 0s 5ms/step - loss: 0.8927 - acc: 0.6661 - val_loss: 0.6406 - val_acc: 0.6623\n",
      "Epoch 35/100\n",
      "10/10 [==============================] - 0s 5ms/step - loss: 0.8048 - acc: 0.6775 - val_loss: 0.7256 - val_acc: 0.7013\n",
      "Epoch 36/100\n",
      "10/10 [==============================] - 0s 5ms/step - loss: 0.8724 - acc: 0.6531 - val_loss: 0.6467 - val_acc: 0.6364\n",
      "Epoch 37/100\n",
      "10/10 [==============================] - 0s 6ms/step - loss: 0.8492 - acc: 0.6401 - val_loss: 0.6311 - val_acc: 0.7013\n",
      "Epoch 38/100\n",
      "10/10 [==============================] - 0s 7ms/step - loss: 0.8408 - acc: 0.6498 - val_loss: 0.6255 - val_acc: 0.6948\n",
      "Epoch 39/100\n",
      "10/10 [==============================] - 0s 4ms/step - loss: 0.8794 - acc: 0.6726 - val_loss: 0.6322 - val_acc: 0.6753\n",
      "Epoch 40/100\n",
      "10/10 [==============================] - 0s 5ms/step - loss: 0.8106 - acc: 0.6987 - val_loss: 0.6545 - val_acc: 0.6558\n",
      "Epoch 41/100\n",
      "10/10 [==============================] - 0s 7ms/step - loss: 0.7551 - acc: 0.6808 - val_loss: 0.6986 - val_acc: 0.6299\n",
      "Epoch 42/100\n",
      "10/10 [==============================] - 0s 8ms/step - loss: 0.8468 - acc: 0.6417 - val_loss: 0.6839 - val_acc: 0.6688\n",
      "Epoch 43/100\n",
      "10/10 [==============================] - 0s 5ms/step - loss: 0.8397 - acc: 0.6368 - val_loss: 0.7145 - val_acc: 0.6753\n",
      "Epoch 44/100\n",
      "10/10 [==============================] - 0s 5ms/step - loss: 0.8118 - acc: 0.6515 - val_loss: 0.7438 - val_acc: 0.5584\n",
      "Epoch 45/100\n",
      "10/10 [==============================] - 0s 5ms/step - loss: 0.7991 - acc: 0.6384 - val_loss: 0.7444 - val_acc: 0.6558\n",
      "Epoch 46/100\n",
      "10/10 [==============================] - 0s 7ms/step - loss: 0.7222 - acc: 0.6726 - val_loss: 0.6537 - val_acc: 0.6688\n",
      "Epoch 47/100\n",
      "10/10 [==============================] - 0s 7ms/step - loss: 0.7661 - acc: 0.6466 - val_loss: 0.6810 - val_acc: 0.6429\n",
      "Epoch 48/100\n",
      "10/10 [==============================] - 0s 6ms/step - loss: 0.7954 - acc: 0.6678 - val_loss: 0.6777 - val_acc: 0.6169\n"
     ]
    }
   ],
   "source": [
    "history = dm_model.fit(x, y,validation_split=0.2,epochs=100,batch_size=64,callbacks=[early_stop, check_point])"
   ]
  },
  {
   "cell_type": "code",
   "execution_count": 28,
   "metadata": {},
   "outputs": [
    {
     "data": {
      "image/png": "[encoded data removed]",
      "text/plain": [
       "<Figure size 640x480 with 1 Axes>"
      ]
     },
     "metadata": {},
     "output_type": "display_data"
    }
   ],
   "source": [
    "plt.plot(history.history['loss'], c = 'r', label = 'Train')\n",
    "plt.plot(history.history['val_loss'], c = 'b', label = 'Validation')\n",
    "plt.legend()\n",
    "plt.grid(alpha = 0.5, linestyle = ':')\n",
    "plt.xlabel('epochs')\n",
    "plt.ylabel('Loss')\n",
    "plt.show()"
   ]
  },
  {
   "cell_type": "code",
   "execution_count": null,
   "metadata": {},
   "outputs": [],
   "source": []
  }
 ],
 "metadata": {
  "kernelspec": {
   "display_name": "py3.8",
   "language": "python",
   "name": "python3"
  },
  "language_info": {
   "codemirror_mode": {
    "name": "ipython",
    "version": 3
   },
   "file_extension": ".py",
   "mimetype": "text/x-python",
   "name": "python",
   "nbconvert_exporter": "python",
   "pygments_lexer": "ipython3",
   "version": "3.8.16"
  },
  "orig_nbformat": 4
 },
 "nbformat": 4,
 "nbformat_minor": 2
}
