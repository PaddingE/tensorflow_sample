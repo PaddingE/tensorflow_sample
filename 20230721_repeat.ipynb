{
 "cells": [
  {
   "cell_type": "code",
   "execution_count": 1,
   "metadata": {},
   "outputs": [
    {
     "name": "stdout",
     "output_type": "stream",
     "text": [
      "2.12.0\n"
     ]
    }
   ],
   "source": [
    "from tensorflow import keras\n",
    "import tensorflow as tf\n",
    "import numpy as np\n",
    "import sys\n",
    "import matplotlib.pyplot as plt\n",
    "\n",
    "print(tf.__version__)"
   ]
  },
  {
   "cell_type": "code",
   "execution_count": 2,
   "metadata": {},
   "outputs": [
    {
     "name": "stdout",
     "output_type": "stream",
     "text": [
      "Model: \"sequential\"\n",
      "_________________________________________________________________\n",
      " Layer (type)                Output Shape              Param #   \n",
      "=================================================================\n",
      " dense (Dense)               (None, 64)                704       \n",
      "                                                                 \n",
      " dropout (Dropout)           (None, 64)                0         \n",
      "                                                                 \n",
      " dense_1 (Dense)             (None, 32)                2080      \n",
      "                                                                 \n",
      " dense_2 (Dense)             (None, 10)                330       \n",
      "                                                                 \n",
      "=================================================================\n",
      "Total params: 3,114\n",
      "Trainable params: 3,114\n",
      "Non-trainable params: 0\n",
      "_________________________________________________________________\n"
     ]
    }
   ],
   "source": [
    "## Sequencial API방식1\n",
    "model_seq = keras.Sequential()\n",
    "\n",
    "model_seq.add(keras.Input(shape = (10, )))\n",
    "model_seq.add(keras.layers.Dense(64, 'relu'))\n",
    "model_seq.add(keras.layers.Dropout(0.2))\n",
    "model_seq.add(keras.layers.Dense(32, 'relu'))\n",
    "model_seq.add(keras.layers.Dense(10, 'softmax'))\n",
    "\n",
    "model_seq.summary()"
   ]
  },
  {
   "cell_type": "code",
   "execution_count": 5,
   "metadata": {},
   "outputs": [
    {
     "name": "stdout",
     "output_type": "stream",
     "text": [
      "Model: \"sequential_3\"\n",
      "_________________________________________________________________\n",
      " Layer (type)                Output Shape              Param #   \n",
      "=================================================================\n",
      " dense_9 (Dense)             (None, 64)                704       \n",
      "                                                                 \n",
      " dropout_3 (Dropout)         (None, 64)                0         \n",
      "                                                                 \n",
      " dense_10 (Dense)            (None, 32)                2080      \n",
      "                                                                 \n",
      " dense_11 (Dense)            (None, 10)                330       \n",
      "                                                                 \n",
      "=================================================================\n",
      "Total params: 3,114\n",
      "Trainable params: 3,114\n",
      "Non-trainable params: 0\n",
      "_________________________________________________________________\n"
     ]
    }
   ],
   "source": [
    "## Sequencial API방식2\n",
    "model_seq2 = keras.Sequential([\n",
    "    keras.Input(shape=(10, )),\n",
    "    keras.layers.Dense(64,'relu'),\n",
    "    keras.layers.Dropout(0.2),\n",
    "    keras.layers.Dense(32, 'relu'),\n",
    "    keras.layers.Dense(10, 'softmax')\n",
    "])\n",
    "\n",
    "model_seq2.summary()"
   ]
  },
  {
   "cell_type": "code",
   "execution_count": 6,
   "metadata": {},
   "outputs": [
    {
     "name": "stdout",
     "output_type": "stream",
     "text": [
      "Model: \"model\"\n",
      "_________________________________________________________________\n",
      " Layer (type)                Output Shape              Param #   \n",
      "=================================================================\n",
      " input_3 (InputLayer)        [(None, 10)]              0         \n",
      "                                                                 \n",
      " dense_12 (Dense)            (None, 64)                704       \n",
      "                                                                 \n",
      " dropout_4 (Dropout)         (None, 64)                0         \n",
      "                                                                 \n",
      " dense_13 (Dense)            (None, 32)                2080      \n",
      "                                                                 \n",
      " dense_14 (Dense)            (None, 10)                330       \n",
      "                                                                 \n",
      "=================================================================\n",
      "Total params: 3,114\n",
      "Trainable params: 3,114\n",
      "Non-trainable params: 0\n",
      "_________________________________________________________________\n"
     ]
    }
   ],
   "source": [
    "## functional API방식\n",
    "inputs = keras.Input(shape=(10, ))\n",
    "hidden1 = keras.layers.Dense(64, 'relu')(inputs)\n",
    "drop_out = keras.layers.Dropout(0.2)(hidden1)\n",
    "hidden2 = keras.layers.Dense(32, 'relu')(drop_out)\n",
    "outputs = keras.layers.Dense(10, 'softmax')(hidden2)\n",
    "\n",
    "model_func = keras.Model(inputs = inputs, outputs = outputs)\n",
    "\n",
    "model_func.summary()"
   ]
  },
  {
   "cell_type": "code",
   "execution_count": 7,
   "metadata": {},
   "outputs": [
    {
     "name": "stdout",
     "output_type": "stream",
     "text": [
      "Model: \"model_subclassing\"\n",
      "_________________________________________________________________\n",
      " Layer (type)                Output Shape              Param #   \n",
      "=================================================================\n",
      " dense_15 (Dense)            multiple                  704       \n",
      "                                                                 \n",
      " dropout_5 (Dropout)         multiple                  0         \n",
      "                                                                 \n",
      " dense_16 (Dense)            multiple                  2080      \n",
      "                                                                 \n",
      " dense_17 (Dense)            multiple                  330       \n",
      "                                                                 \n",
      "=================================================================\n",
      "Total params: 3,114\n",
      "Trainable params: 3,114\n",
      "Non-trainable params: 0\n",
      "_________________________________________________________________\n"
     ]
    }
   ],
   "source": [
    "## subclassing API\n",
    "\n",
    "class ModelSubclassing(keras.Model):\n",
    "    def __init__(self, hidden1, drop_rate, hidden2, outputs):\n",
    "        super(ModelSubclassing, self).__init__()\n",
    "        self.hidden1 = keras.layers.Dense(hidden1,'relu')\n",
    "        self.drop_out = keras.layers.Dropout(drop_rate)\n",
    "        self.hidden2 = keras.layers.Dense(hidden2, 'relu')\n",
    "        self.outputs = keras.layers.Dense(outputs, 'softmax')\n",
    "        \n",
    "    def call(self, inputs):\n",
    "        x = self.hidden1(inputs)\n",
    "        x = self.drop_out(x)\n",
    "        x = self.hidden2(x)\n",
    "        x = self.outputs(x)\n",
    "        \n",
    "        return x\n",
    "    \n",
    "model_sub = ModelSubclassing(64,0.2,32,10)\n",
    "model_sub.build(input_shape=(1,10))\n",
    "model_sub.summary()"
   ]
  },
  {
   "cell_type": "code",
   "execution_count": 8,
   "metadata": {},
   "outputs": [],
   "source": [
    "dataset = np.loadtxt('../pima-indians-diabetes.csv', delimiter=',')\n",
    "\n",
    "X = dataset[:,:-1]\n",
    "y = dataset[:,-1]"
   ]
  },
  {
   "cell_type": "code",
   "execution_count": 13,
   "metadata": {},
   "outputs": [],
   "source": [
    "class DM(keras.Model):\n",
    "    def __init__(self, hidden1, drop_rate, hidden2, outputs):\n",
    "        super(DM, self).__init__()\n",
    "        self.hidden1 = keras.layers.Dense(hidden1,'relu')\n",
    "        self.drop_out = keras.layers.Dropout(drop_rate)\n",
    "        self.hidden2 = keras.layers.Dense(hidden2,'relu')\n",
    "        self.outputs = keras.layers.Dense(outputs,'sigmoid')\n",
    "        \n",
    "    def call(self, inputs):\n",
    "        x = self.hidden1(inputs)\n",
    "        x = self.drop_out(x)\n",
    "        x = self.hidden2(x)\n",
    "        x = self.outputs(x)\n",
    "        \n",
    "        return x\n",
    "    \n",
    "model_DM = DM(64,0.2,32,1)"
   ]
  },
  {
   "cell_type": "code",
   "execution_count": 14,
   "metadata": {},
   "outputs": [],
   "source": [
    "early_stop = keras.callbacks.EarlyStopping(patience=10)\n",
    "check_point = keras.callbacks.ModelCheckpoint(filepath='../model_save/DM_model_save.ckpt',\n",
    "                                              save_best_only= True,\n",
    "                                              save_weights_only=True)\n",
    "model_DM.compile(loss = 'binary_crossentropy',\n",
    "                 optimizer='adam',\n",
    "                 metrics=['acc'])"
   ]
  },
  {
   "cell_type": "code",
   "execution_count": 15,
   "metadata": {},
   "outputs": [
    {
     "name": "stdout",
     "output_type": "stream",
     "text": [
      "Epoch 1/200\n",
      "10/10 [==============================] - 1s 27ms/step - loss: 4.9360 - acc: 0.5065 - val_loss: 2.0671 - val_acc: 0.5455\n",
      "Epoch 2/200\n",
      "10/10 [==============================] - 0s 5ms/step - loss: 3.7619 - acc: 0.5033 - val_loss: 2.6941 - val_acc: 0.4740\n",
      "Epoch 3/200\n",
      "10/10 [==============================] - 0s 7ms/step - loss: 3.1718 - acc: 0.5375 - val_loss: 1.7688 - val_acc: 0.5065\n",
      "Epoch 4/200\n",
      "10/10 [==============================] - 0s 5ms/step - loss: 2.7106 - acc: 0.5065 - val_loss: 2.0248 - val_acc: 0.4481\n",
      "Epoch 5/200\n",
      "10/10 [==============================] - 0s 7ms/step - loss: 2.2017 - acc: 0.5863 - val_loss: 1.1860 - val_acc: 0.5065\n",
      "Epoch 6/200\n",
      "10/10 [==============================] - 0s 4ms/step - loss: 1.8584 - acc: 0.5896 - val_loss: 1.3802 - val_acc: 0.4805\n",
      "Epoch 7/200\n",
      "10/10 [==============================] - 0s 5ms/step - loss: 1.6638 - acc: 0.5749 - val_loss: 1.4271 - val_acc: 0.4870\n",
      "Epoch 8/200\n",
      "10/10 [==============================] - 0s 6ms/step - loss: 1.4046 - acc: 0.6156 - val_loss: 1.2160 - val_acc: 0.5260\n",
      "Epoch 9/200\n",
      "10/10 [==============================] - 0s 8ms/step - loss: 1.4471 - acc: 0.5993 - val_loss: 1.0665 - val_acc: 0.5000\n",
      "Epoch 10/200\n",
      "10/10 [==============================] - 0s 7ms/step - loss: 1.2779 - acc: 0.6270 - val_loss: 0.8233 - val_acc: 0.5000\n",
      "Epoch 11/200\n",
      "10/10 [==============================] - 0s 7ms/step - loss: 1.3163 - acc: 0.5831 - val_loss: 0.7613 - val_acc: 0.5844\n",
      "Epoch 12/200\n",
      "10/10 [==============================] - 0s 5ms/step - loss: 1.2507 - acc: 0.6075 - val_loss: 0.8058 - val_acc: 0.5909\n",
      "Epoch 13/200\n",
      "10/10 [==============================] - 0s 8ms/step - loss: 0.9879 - acc: 0.6352 - val_loss: 0.7515 - val_acc: 0.6558\n",
      "Epoch 14/200\n",
      "10/10 [==============================] - 0s 9ms/step - loss: 0.9897 - acc: 0.6303 - val_loss: 0.7255 - val_acc: 0.6104\n",
      "Epoch 15/200\n",
      "10/10 [==============================] - 0s 4ms/step - loss: 0.9984 - acc: 0.6173 - val_loss: 0.7496 - val_acc: 0.5844\n",
      "Epoch 16/200\n",
      "10/10 [==============================] - 0s 7ms/step - loss: 0.9727 - acc: 0.6173 - val_loss: 0.6539 - val_acc: 0.6753\n",
      "Epoch 17/200\n",
      "10/10 [==============================] - 0s 6ms/step - loss: 0.8999 - acc: 0.6205 - val_loss: 0.7031 - val_acc: 0.5974\n",
      "Epoch 18/200\n",
      "10/10 [==============================] - 0s 5ms/step - loss: 0.9313 - acc: 0.5896 - val_loss: 0.6948 - val_acc: 0.6169\n",
      "Epoch 19/200\n",
      "10/10 [==============================] - 0s 5ms/step - loss: 0.8469 - acc: 0.6401 - val_loss: 0.6763 - val_acc: 0.6364\n",
      "Epoch 20/200\n",
      "10/10 [==============================] - 0s 5ms/step - loss: 0.9379 - acc: 0.5831 - val_loss: 0.6643 - val_acc: 0.6688\n",
      "Epoch 21/200\n",
      "10/10 [==============================] - 0s 5ms/step - loss: 0.7853 - acc: 0.6433 - val_loss: 0.6562 - val_acc: 0.6494\n",
      "Epoch 22/200\n",
      "10/10 [==============================] - 0s 7ms/step - loss: 0.7732 - acc: 0.6238 - val_loss: 0.6404 - val_acc: 0.6818\n",
      "Epoch 23/200\n",
      "10/10 [==============================] - 0s 4ms/step - loss: 0.7482 - acc: 0.6417 - val_loss: 0.6493 - val_acc: 0.6558\n",
      "Epoch 24/200\n",
      "10/10 [==============================] - 0s 4ms/step - loss: 0.8079 - acc: 0.6124 - val_loss: 0.6464 - val_acc: 0.6558\n",
      "Epoch 25/200\n",
      "10/10 [==============================] - 0s 7ms/step - loss: 0.7669 - acc: 0.6173 - val_loss: 0.6386 - val_acc: 0.6623\n",
      "Epoch 26/200\n",
      "10/10 [==============================] - 0s 7ms/step - loss: 0.7586 - acc: 0.6319 - val_loss: 0.6295 - val_acc: 0.6753\n",
      "Epoch 27/200\n",
      "10/10 [==============================] - 0s 7ms/step - loss: 0.6848 - acc: 0.6498 - val_loss: 0.6166 - val_acc: 0.6818\n",
      "Epoch 28/200\n",
      "10/10 [==============================] - 0s 5ms/step - loss: 0.6763 - acc: 0.6450 - val_loss: 0.6246 - val_acc: 0.6688\n",
      "Epoch 29/200\n",
      "10/10 [==============================] - 0s 4ms/step - loss: 0.7016 - acc: 0.6336 - val_loss: 0.6372 - val_acc: 0.6818\n",
      "Epoch 30/200\n",
      "10/10 [==============================] - 0s 5ms/step - loss: 0.6885 - acc: 0.6352 - val_loss: 0.6454 - val_acc: 0.6753\n",
      "Epoch 31/200\n",
      "10/10 [==============================] - 0s 5ms/step - loss: 0.7220 - acc: 0.6515 - val_loss: 0.6359 - val_acc: 0.6494\n",
      "Epoch 32/200\n",
      "10/10 [==============================] - 0s 5ms/step - loss: 0.6536 - acc: 0.6824 - val_loss: 0.6288 - val_acc: 0.6818\n",
      "Epoch 33/200\n",
      "10/10 [==============================] - 0s 5ms/step - loss: 0.6684 - acc: 0.6433 - val_loss: 0.6267 - val_acc: 0.6558\n",
      "Epoch 34/200\n",
      "10/10 [==============================] - 0s 4ms/step - loss: 0.6819 - acc: 0.6254 - val_loss: 0.6298 - val_acc: 0.6688\n",
      "Epoch 35/200\n",
      "10/10 [==============================] - 0s 5ms/step - loss: 0.6550 - acc: 0.6417 - val_loss: 0.6238 - val_acc: 0.6429\n",
      "Epoch 36/200\n",
      "10/10 [==============================] - 0s 5ms/step - loss: 0.6923 - acc: 0.6433 - val_loss: 0.6210 - val_acc: 0.6753\n",
      "Epoch 37/200\n",
      "10/10 [==============================] - 0s 5ms/step - loss: 0.6510 - acc: 0.6710 - val_loss: 0.6176 - val_acc: 0.6688\n"
     ]
    }
   ],
   "source": [
    "history = model_DM.fit(X, y, validation_split=0.2, epochs=200, batch_size=64, callbacks=[early_stop, check_point])\n"
   ]
  },
  {
   "cell_type": "code",
   "execution_count": 16,
   "metadata": {},
   "outputs": [
    {
     "data": {
      "image/png": "[encoded data removed]",
      "text/plain": [
       "<Figure size 640x480 with 1 Axes>"
      ]
     },
     "metadata": {},
     "output_type": "display_data"
    }
   ],
   "source": [
    "plt.plot(history.history['loss'], c = 'r', label = 'Train')\n",
    "plt.plot(history.history['val_loss'], c = 'b', label = 'Validation')\n",
    "\n",
    "plt.legend()\n",
    "plt.grid(alpha = 0.5, linestyle = ':')\n",
    "plt.xlabel('epochs')\n",
    "plt.ylabel('Loss')\n",
    "\n",
    "plt.show()"
   ]
  },
  {
   "cell_type": "code",
   "execution_count": null,
   "metadata": {},
   "outputs": [],
   "source": []
  }
 ],
 "metadata": {
  "kernelspec": {
   "display_name": "py3.8",
   "language": "python",
   "name": "python3"
  },
  "language_info": {
   "codemirror_mode": {
    "name": "ipython",
    "version": 3
   },
   "file_extension": ".py",
   "mimetype": "text/x-python",
   "name": "python",
   "nbconvert_exporter": "python",
   "pygments_lexer": "ipython3",
   "version": "3.8.16"
  },
  "orig_nbformat": 4
 },
 "nbformat": 4,
 "nbformat_minor": 2
}
